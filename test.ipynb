{
  "nbformat": 4,
  "nbformat_minor": 0,
  "metadata": {
    "colab": {
      "provenance": [],
      "include_colab_link": true
    },
    "kernelspec": {
      "name": "python3",
      "display_name": "Python 3"
    },
    "language_info": {
      "name": "python"
    },
    "accelerator": "GPU",
    "gpuClass": "standard"
  },
  "cells": [
    {
      "cell_type": "markdown",
      "metadata": {
        "id": "view-in-github",
        "colab_type": "text"
      },
      "source": [
        "<a href=\"https://colab.research.google.com/github/xloem/apifudge/blob/main/test.ipynb\" target=\"_parent\"><img src=\"https://colab.research.google.com/assets/colab-badge.svg\" alt=\"Open In Colab\"/></a>"
      ]
    },
    {
      "cell_type": "code",
      "execution_count": 1,
      "metadata": {
        "colab": {
          "base_uri": "https://localhost:8080/"
        },
        "id": "pXoqiifJhXt6",
        "outputId": "be59268c-e2f1-4090-80f5-6d4830c3a97b"
      },
      "outputs": [
        {
          "output_type": "stream",
          "name": "stdout",
          "text": [
            "Looking in indexes: https://pypi.org/simple, https://us-python.pkg.dev/colab-wheels/public/simple/\n",
            "Requirement already satisfied: adapter-transformers in /usr/local/lib/python3.8/dist-packages (3.1.0)\n",
            "Requirement already satisfied: accelerate in /usr/local/lib/python3.8/dist-packages (0.15.0)\n",
            "Requirement already satisfied: bitsandbytes in /usr/local/lib/python3.8/dist-packages (0.36.0.post2)\n",
            "Requirement already satisfied: pyyaml>=5.1 in /usr/local/lib/python3.8/dist-packages (from adapter-transformers) (6.0)\n",
            "Requirement already satisfied: huggingface-hub<1.0,>=0.1.0 in /usr/local/lib/python3.8/dist-packages (from adapter-transformers) (0.11.1)\n",
            "Requirement already satisfied: packaging>=20.0 in /usr/local/lib/python3.8/dist-packages (from adapter-transformers) (21.3)\n",
            "Requirement already satisfied: tqdm>=4.27 in /usr/local/lib/python3.8/dist-packages (from adapter-transformers) (4.64.1)\n",
            "Requirement already satisfied: requests in /usr/local/lib/python3.8/dist-packages (from adapter-transformers) (2.25.1)\n",
            "Requirement already satisfied: filelock in /usr/local/lib/python3.8/dist-packages (from adapter-transformers) (3.8.2)\n",
            "Requirement already satisfied: numpy>=1.17 in /usr/local/lib/python3.8/dist-packages (from adapter-transformers) (1.21.6)\n",
            "Requirement already satisfied: tokenizers!=0.11.3,<0.13,>=0.11.1 in /usr/local/lib/python3.8/dist-packages (from adapter-transformers) (0.12.1)\n",
            "Requirement already satisfied: regex!=2019.12.17 in /usr/local/lib/python3.8/dist-packages (from adapter-transformers) (2022.6.2)\n",
            "Requirement already satisfied: psutil in /usr/local/lib/python3.8/dist-packages (from accelerate) (5.4.8)\n",
            "Requirement already satisfied: torch>=1.4.0 in /usr/local/lib/python3.8/dist-packages (from accelerate) (1.13.0+cu116)\n",
            "Requirement already satisfied: typing-extensions>=3.7.4.3 in /usr/local/lib/python3.8/dist-packages (from huggingface-hub<1.0,>=0.1.0->adapter-transformers) (4.4.0)\n",
            "Requirement already satisfied: pyparsing!=3.0.5,>=2.0.2 in /usr/local/lib/python3.8/dist-packages (from packaging>=20.0->adapter-transformers) (3.0.9)\n",
            "Requirement already satisfied: urllib3<1.27,>=1.21.1 in /usr/local/lib/python3.8/dist-packages (from requests->adapter-transformers) (1.24.3)\n",
            "Requirement already satisfied: chardet<5,>=3.0.2 in /usr/local/lib/python3.8/dist-packages (from requests->adapter-transformers) (4.0.0)\n",
            "Requirement already satisfied: idna<3,>=2.5 in /usr/local/lib/python3.8/dist-packages (from requests->adapter-transformers) (2.10)\n",
            "Requirement already satisfied: certifi>=2017.4.17 in /usr/local/lib/python3.8/dist-packages (from requests->adapter-transformers) (2022.12.7)\n",
            "fatal: destination path 'apifudge' already exists and is not an empty directory.\n",
            "remote: Enumerating objects: 7, done.\u001b[K\n",
            "remote: Counting objects: 100% (7/7), done.\u001b[K\n",
            "remote: Compressing objects: 100% (2/2), done.\u001b[K\n",
            "remote: Total 4 (delta 1), reused 4 (delta 1), pack-reused 0\u001b[K\n",
            "Unpacking objects: 100% (4/4), done.\n",
            "From https://github.com/xloem/apifudge\n",
            "   2387311..75f8b99  main       -> origin/main\n",
            "Updating 2387311..75f8b99\n",
            "Fast-forward\n",
            " apifudge1/__init__.py | 24 \u001b[32m++++++++++++\u001b[m\u001b[31m------------\u001b[m\n",
            " 1 file changed, 12 insertions(+), 12 deletions(-)\n",
            "Already on 'main'\n",
            "Your branch is up to date with 'origin/main'.\n",
            "Sat Jan  7 23:23:03 2023       \n",
            "+-----------------------------------------------------------------------------+\n",
            "| NVIDIA-SMI 460.32.03    Driver Version: 460.32.03    CUDA Version: 11.2     |\n",
            "|-------------------------------+----------------------+----------------------+\n",
            "| GPU  Name        Persistence-M| Bus-Id        Disp.A | Volatile Uncorr. ECC |\n",
            "| Fan  Temp  Perf  Pwr:Usage/Cap|         Memory-Usage | GPU-Util  Compute M. |\n",
            "|                               |                      |               MIG M. |\n",
            "|===============================+======================+======================|\n",
            "|   0  Tesla T4            Off  | 00000000:00:04.0 Off |                    0 |\n",
            "| N/A   57C    P0    27W /  70W |      0MiB / 15109MiB |      0%      Default |\n",
            "|                               |                      |                  N/A |\n",
            "+-------------------------------+----------------------+----------------------+\n",
            "                                                                               \n",
            "+-----------------------------------------------------------------------------+\n",
            "| Processes:                                                                  |\n",
            "|  GPU   GI   CI        PID   Type   Process name                  GPU Memory |\n",
            "|        ID   ID                                                   Usage      |\n",
            "|=============================================================================|\n",
            "|  No running processes found                                                 |\n",
            "+-----------------------------------------------------------------------------+\n",
            "'./apifudge1' -> 'apifudge/apifudge1'\n",
            "'./test.ipynb' -> 'apifudge/test.ipynb'\n",
            "'./test.py' -> 'apifudge/test.py'\n"
          ]
        }
      ],
      "source": [
        "!pip3 install adapter-transformers accelerate bitsandbytes\n",
        "!git clone https://github.com/xloem/apifudge; cd apifudge; git pull; git checkout main #15f5b4bc5cbc2cf28c52dff3a997d9d5e539c71a\n",
        "!nvidia-smi\n",
        "!ln -vsf apifudge/* ."
      ]
    },
    {
      "cell_type": "code",
      "source": [
        "# use drive to cache downloads\n",
        "from google.colab import drive\n",
        "drive.mount('/content/drive')\n",
        "!mkdir -p /content/drive/MyDrive/colab/.cache\n",
        "!rm -rf $HOME/.cache\n",
        "!ln -s /content/drive/MyDrive/colab/.cache $HOME/.cache"
      ],
      "metadata": {
        "id": "bV-UWtfSpLga",
        "colab": {
          "base_uri": "https://localhost:8080/"
        },
        "outputId": "593fe5f3-125d-4c99-b6d4-2d46857617f7"
      },
      "execution_count": 2,
      "outputs": [
        {
          "output_type": "stream",
          "name": "stdout",
          "text": [
            "Drive already mounted at /content/drive; to attempt to forcibly remount, call drive.mount(\"/content/drive\", force_remount=True).\n"
          ]
        }
      ]
    },
    {
      "cell_type": "code",
      "source": [
        "import transformers\n",
        "print('loading model ...')\n",
        "pipeline = transformers.pipeline(\n",
        "    'text-generation', 'bigscience/bloomz-3b', \n",
        "    model_kwargs=dict(device_map='auto'))\n",
        "print('loaded model')"
      ],
      "metadata": {
        "id": "FgI96kGdc3eH",
        "outputId": "e2cd575e-47b3-43bb-afb7-80919921dee7",
        "colab": {
          "base_uri": "https://localhost:8080/"
        }
      },
      "execution_count": 3,
      "outputs": [
        {
          "output_type": "stream",
          "name": "stdout",
          "text": [
            "loading model ...\n",
            "loaded model\n"
          ]
        }
      ]
    },
    {
      "cell_type": "code",
      "source": [
        "import apifudge1 as af1\n",
        "npapi = af1.API('numpy')\n",
        "npapi.set_example(\n",
        "'''Construct an array B that repeats array Y 4 times along the last dimension.''',\n",
        "'''B = np.tile(Y, 4)'''\n",
        ")\n",
        "npapi.set_example(\n",
        "'''Swap the last two axes of an array D.''',\n",
        "'''D = D.swapaxes(-2, -1)'''\n",
        ")\n",
        "npapi.set_example(\n",
        "'''Sort an array along the third axis.''',\n",
        "'''array.sort(3)'''\n",
        ")\n",
        "for name, text in npapi.get_examples().items():\n",
        "    print(f'{name}: {repr(text)}')\n",
        "generator = af1.Generator(pipeline)\n",
        "print('Augmenting ...')\n",
        "for prompt, result in generator.augment(npapi):\n",
        "  print(f'{prompt}: {repr(result)}')\n",
        "print('Inferring:')\n",
        "prompt = 'Reverse an array C.'\n",
        "output = generator(npapi, prompt)\n",
        "print(f'{prompt}: {repr(output)}')"
      ],
      "metadata": {
        "id": "rdbhjW-whvwB",
        "colab": {
          "base_uri": "https://localhost:8080/"
        },
        "outputId": "7695070b-3cba-4718-ee00-3afe96bbca8b"
      },
      "execution_count": 4,
      "outputs": [
        {
          "output_type": "stream",
          "name": "stdout",
          "text": [
            "Sort an array along the third axis.: 'array.sort(3)'\n",
            "Swap the last two axes of an array D.: 'D = D.swapaxes(-2, -1)'\n",
            "Construct an array B that repeats array Y 4 times along the last dimension.: 'B = np.tile(Y, 4)'\n",
            "Augmenting ...\n",
            "Convert a string to an axised tensor Y.: 'Y = np.array(Y).T'\n",
            "Create an array B from a vector of zeros: 'B = np.zeros((4,))'\n",
            "Averaging elements of B along the last axis (optional).: 'B = np.mean(B, axis=0)'\n",
            "Apply the last two axes of array Y to B. B = B.swapaxes(-2, -1): 'B'\n",
            "Construct 2D array of integers x, y.: 'X = np.array([[1, 2, 3], [4, 5, 6]])'\n",
            "A 2D array can share two dimensional elements.: 'A = np.concatenate([np.array(X), np.array(Y)])'\n",
            "Construct a multidimensional array of shape (X + Y + Z) D = [[X for y in range(X)] for z in range(X) for x in range(X)]: 'D'\n",
            "Perform a mean shift. D.: 'D.mean()'\n",
            "Inferring:\n",
            "Reverse an array C.: 'C = np.flipud(C)'\n"
          ]
        }
      ]
    }
  ]
}